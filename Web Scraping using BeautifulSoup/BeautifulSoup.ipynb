{
 "cells": [
  {
   "cell_type": "code",
   "execution_count": 1,
   "id": "79508eb3",
   "metadata": {},
   "outputs": [],
   "source": [
    "import requests\n",
    "from bs4 import BeautifulSoup as bs"
   ]
  },
  {
   "cell_type": "markdown",
   "id": "fb09e0bf",
   "metadata": {},
   "source": [
    "### Loading a Webpage - requests Library"
   ]
  },
  {
   "cell_type": "code",
   "execution_count": 2,
   "id": "7df4ad8a",
   "metadata": {},
   "outputs": [],
   "source": [
    "# Load the webpage content\n",
    "url = \"https://keithgalli.github.io/web-scraping/example.html\"\n",
    "r = requests.get(url)"
   ]
  },
  {
   "cell_type": "code",
   "execution_count": 3,
   "id": "05d9e6f4",
   "metadata": {},
   "outputs": [],
   "source": [
    "# Convert to a BeautifulSoup object\n",
    "soup = bs(r.content)"
   ]
  },
  {
   "cell_type": "code",
   "execution_count": 4,
   "id": "f1339fa1",
   "metadata": {},
   "outputs": [
    {
     "name": "stdout",
     "output_type": "stream",
     "text": [
      "<html>\n",
      "<head>\n",
      "<title>HTML Example</title>\n",
      "</head>\n",
      "<body>\n",
      "<div align=\"middle\">\n",
      "<h1>HTML Webpage</h1>\n",
      "<p>Link to more interesting example: <a href=\"https://keithgalli.github.io/web-scraping/webpage.html\">keithgalli.github.io/web-scraping/webpage.html</a></p>\n",
      "</div>\n",
      "<h2>A Header</h2>\n",
      "<p><i>Some italicized text</i></p>\n",
      "<h2>Another header</h2>\n",
      "<p id=\"paragraph-id\"><b>Some bold text</b></p>\n",
      "</body>\n",
      "</html>\n",
      "\n"
     ]
    }
   ],
   "source": [
    "# Printing out our html\n",
    "print(soup)"
   ]
  },
  {
   "cell_type": "code",
   "execution_count": 5,
   "id": "ba801fae",
   "metadata": {},
   "outputs": [
    {
     "name": "stdout",
     "output_type": "stream",
     "text": [
      "<html>\n",
      " <head>\n",
      "  <title>\n",
      "   HTML Example\n",
      "  </title>\n",
      " </head>\n",
      " <body>\n",
      "  <div align=\"middle\">\n",
      "   <h1>\n",
      "    HTML Webpage\n",
      "   </h1>\n",
      "   <p>\n",
      "    Link to more interesting example:\n",
      "    <a href=\"https://keithgalli.github.io/web-scraping/webpage.html\">\n",
      "     keithgalli.github.io/web-scraping/webpage.html\n",
      "    </a>\n",
      "   </p>\n",
      "  </div>\n",
      "  <h2>\n",
      "   A Header\n",
      "  </h2>\n",
      "  <p>\n",
      "   <i>\n",
      "    Some italicized text\n",
      "   </i>\n",
      "  </p>\n",
      "  <h2>\n",
      "   Another header\n",
      "  </h2>\n",
      "  <p id=\"paragraph-id\">\n",
      "   <b>\n",
      "    Some bold text\n",
      "   </b>\n",
      "  </p>\n",
      " </body>\n",
      "</html>\n",
      "\n"
     ]
    }
   ],
   "source": [
    "print(soup.prettify())"
   ]
  },
  {
   "cell_type": "markdown",
   "id": "6b9b9604",
   "metadata": {},
   "source": [
    "### Starting to Scrape"
   ]
  },
  {
   "cell_type": "markdown",
   "id": "29f30d73",
   "metadata": {},
   "source": [
    "#### find & find_all"
   ]
  },
  {
   "cell_type": "code",
   "execution_count": 6,
   "id": "8febb4a3",
   "metadata": {},
   "outputs": [
    {
     "name": "stdout",
     "output_type": "stream",
     "text": [
      "<h2>A Header</h2>\n"
     ]
    }
   ],
   "source": [
    "# Finding the first element\n",
    "first_header = soup.find(\"h2\")\n",
    "print(first_header)"
   ]
  },
  {
   "cell_type": "code",
   "execution_count": 7,
   "id": "850162cc",
   "metadata": {},
   "outputs": [
    {
     "data": {
      "text/plain": [
       "[<h2>A Header</h2>, <h2>Another header</h2>]"
      ]
     },
     "execution_count": 7,
     "metadata": {},
     "output_type": "execute_result"
    }
   ],
   "source": [
    "# Finding all elements\n",
    "headers = soup.find_all(\"h2\")\n",
    "headers"
   ]
  },
  {
   "cell_type": "code",
   "execution_count": 8,
   "id": "423ac3a3",
   "metadata": {},
   "outputs": [
    {
     "data": {
      "text/plain": [
       "<h1>HTML Webpage</h1>"
      ]
     },
     "execution_count": 8,
     "metadata": {},
     "output_type": "execute_result"
    }
   ],
   "source": [
    "# Pass in a list of elements to look for\n",
    "first_header = soup.find([\"h1\",\"h2\"])\n",
    "first_header"
   ]
  },
  {
   "cell_type": "code",
   "execution_count": 9,
   "id": "4ed7d6f1",
   "metadata": {},
   "outputs": [
    {
     "data": {
      "text/plain": [
       "<h1>HTML Webpage</h1>"
      ]
     },
     "execution_count": 9,
     "metadata": {},
     "output_type": "execute_result"
    }
   ],
   "source": [
    "first_header = soup.find([\"h2\",\"h1\"])\n",
    "first_header"
   ]
  },
  {
   "cell_type": "code",
   "execution_count": 10,
   "id": "e7a5d317",
   "metadata": {},
   "outputs": [
    {
     "data": {
      "text/plain": [
       "[<h1>HTML Webpage</h1>, <h2>A Header</h2>, <h2>Another header</h2>]"
      ]
     },
     "execution_count": 10,
     "metadata": {},
     "output_type": "execute_result"
    }
   ],
   "source": [
    "headers = soup.find_all([\"h1\",\"h2\"])\n",
    "headers"
   ]
  },
  {
   "cell_type": "code",
   "execution_count": 11,
   "id": "35cdb97c",
   "metadata": {},
   "outputs": [
    {
     "data": {
      "text/plain": [
       "[<p>Link to more interesting example: <a href=\"https://keithgalli.github.io/web-scraping/webpage.html\">keithgalli.github.io/web-scraping/webpage.html</a></p>,\n",
       " <p><i>Some italicized text</i></p>,\n",
       " <p id=\"paragraph-id\"><b>Some bold text</b></p>]"
      ]
     },
     "execution_count": 11,
     "metadata": {},
     "output_type": "execute_result"
    }
   ],
   "source": [
    "# You can pass in attributes to the find/find_all function\n",
    "paragraph = soup.find_all(\"p\")\n",
    "paragraph"
   ]
  },
  {
   "cell_type": "code",
   "execution_count": 12,
   "id": "f48af4b6",
   "metadata": {},
   "outputs": [
    {
     "data": {
      "text/plain": [
       "[<p id=\"paragraph-id\"><b>Some bold text</b></p>]"
      ]
     },
     "execution_count": 12,
     "metadata": {},
     "output_type": "execute_result"
    }
   ],
   "source": [
    "paragraph = soup.find_all(\"p\", attrs={\"id\":\"paragraph-id\"})\n",
    "paragraph"
   ]
  },
  {
   "cell_type": "code",
   "execution_count": 13,
   "id": "edd0a402",
   "metadata": {},
   "outputs": [
    {
     "data": {
      "text/plain": [
       "<h1>HTML Webpage</h1>"
      ]
     },
     "execution_count": 13,
     "metadata": {},
     "output_type": "execute_result"
    }
   ],
   "source": [
    "# You can nest find/find_all calls\n",
    "body = soup.find(\"body\")\n",
    "div = body.find(\"div\")\n",
    "header = div.find(\"h1\")\n",
    "header"
   ]
  },
  {
   "cell_type": "code",
   "execution_count": 14,
   "id": "913106ed",
   "metadata": {},
   "outputs": [
    {
     "data": {
      "text/plain": [
       "[<p id=\"paragraph-id\"><b>Some bold text</b></p>]"
      ]
     },
     "execution_count": 14,
     "metadata": {},
     "output_type": "execute_result"
    }
   ],
   "source": [
    "# Searching for a specific string, doesn't work for one word\n",
    "paragraph = soup.find_all(\"p\", string=\"Some bold text\")\n",
    "paragraph"
   ]
  },
  {
   "cell_type": "code",
   "execution_count": 15,
   "id": "185eba32",
   "metadata": {},
   "outputs": [
    {
     "data": {
      "text/plain": [
       "[<p><i>Some italicized text</i></p>,\n",
       " <p id=\"paragraph-id\"><b>Some bold text</b></p>]"
      ]
     },
     "execution_count": 15,
     "metadata": {},
     "output_type": "execute_result"
    }
   ],
   "source": [
    "# Using regex for a specific word\n",
    "import re\n",
    "paragraph = soup.find_all(\"p\", string=re.compile(\"Some\"))\n",
    "paragraph"
   ]
  },
  {
   "cell_type": "code",
   "execution_count": 16,
   "id": "67dc3f18",
   "metadata": {},
   "outputs": [
    {
     "data": {
      "text/plain": [
       "[<h2>Another header</h2>]"
      ]
     },
     "execution_count": 16,
     "metadata": {},
     "output_type": "execute_result"
    }
   ],
   "source": [
    "# Strings of different capitalization\n",
    "# This example only gives the lowercase header\n",
    "headers = soup.find_all(\"h2\", string=re.compile(\"header\"))\n",
    "headers"
   ]
  },
  {
   "cell_type": "code",
   "execution_count": 17,
   "id": "b7037165",
   "metadata": {},
   "outputs": [
    {
     "data": {
      "text/plain": [
       "[<h2>A Header</h2>, <h2>Another header</h2>]"
      ]
     },
     "execution_count": 17,
     "metadata": {},
     "output_type": "execute_result"
    }
   ],
   "source": [
    "# Now looking for both capitalizations\n",
    "headers = soup.find_all(\"h2\", string=re.compile(\"H|header\"))\n",
    "headers"
   ]
  },
  {
   "cell_type": "markdown",
   "id": "0e380a74",
   "metadata": {},
   "source": [
    "### Select method (CSS path selections)"
   ]
  },
  {
   "cell_type": "code",
   "execution_count": 18,
   "id": "0cb6edd8",
   "metadata": {},
   "outputs": [
    {
     "data": {
      "text/plain": [
       "[<p>Link to more interesting example: <a href=\"https://keithgalli.github.io/web-scraping/webpage.html\">keithgalli.github.io/web-scraping/webpage.html</a></p>,\n",
       " <p><i>Some italicized text</i></p>,\n",
       " <p id=\"paragraph-id\"><b>Some bold text</b></p>]"
      ]
     },
     "execution_count": 18,
     "metadata": {},
     "output_type": "execute_result"
    }
   ],
   "source": [
    "content = soup.select(\"p\")\n",
    "content"
   ]
  },
  {
   "cell_type": "code",
   "execution_count": 19,
   "id": "14a0cbd5",
   "metadata": {},
   "outputs": [
    {
     "name": "stdout",
     "output_type": "stream",
     "text": [
      "<body>\n",
      " <div align=\"middle\">\n",
      "  <h1>\n",
      "   HTML Webpage\n",
      "  </h1>\n",
      "  <p>\n",
      "   Link to more interesting example:\n",
      "   <a href=\"https://keithgalli.github.io/web-scraping/webpage.html\">\n",
      "    keithgalli.github.io/web-scraping/webpage.html\n",
      "   </a>\n",
      "  </p>\n",
      " </div>\n",
      " <h2>\n",
      "  A Header\n",
      " </h2>\n",
      " <p>\n",
      "  <i>\n",
      "   Some italicized text\n",
      "  </i>\n",
      " </p>\n",
      " <h2>\n",
      "  Another header\n",
      " </h2>\n",
      " <p id=\"paragraph-id\">\n",
      "  <b>\n",
      "   Some bold text\n",
      "  </b>\n",
      " </p>\n",
      "</body>\n",
      "\n"
     ]
    }
   ],
   "source": [
    "print(soup.body.prettify())"
   ]
  },
  {
   "cell_type": "code",
   "execution_count": 20,
   "id": "ba6785ec",
   "metadata": {},
   "outputs": [
    {
     "data": {
      "text/plain": [
       "[<p>Link to more interesting example: <a href=\"https://keithgalli.github.io/web-scraping/webpage.html\">keithgalli.github.io/web-scraping/webpage.html</a></p>]"
      ]
     },
     "execution_count": 20,
     "metadata": {},
     "output_type": "execute_result"
    }
   ],
   "source": [
    "content = soup.select(\"div p\")\n",
    "content"
   ]
  },
  {
   "cell_type": "code",
   "execution_count": 21,
   "id": "3f6c4cea",
   "metadata": {},
   "outputs": [
    {
     "data": {
      "text/plain": [
       "[<p><i>Some italicized text</i></p>,\n",
       " <p id=\"paragraph-id\"><b>Some bold text</b></p>]"
      ]
     },
     "execution_count": 21,
     "metadata": {},
     "output_type": "execute_result"
    }
   ],
   "source": [
    "paragraphs = soup.select(\"h2 ~ p\")\n",
    "paragraphs"
   ]
  },
  {
   "cell_type": "code",
   "execution_count": 22,
   "id": "19afb636",
   "metadata": {},
   "outputs": [
    {
     "data": {
      "text/plain": [
       "[<b>Some bold text</b>]"
      ]
     },
     "execution_count": 22,
     "metadata": {},
     "output_type": "execute_result"
    }
   ],
   "source": [
    "bold_text = soup.select(\"p#paragraph-id b\")\n",
    "bold_text"
   ]
  },
  {
   "cell_type": "code",
   "execution_count": 23,
   "id": "b27d5b0e",
   "metadata": {},
   "outputs": [
    {
     "data": {
      "text/plain": [
       "[<p><i>Some italicized text</i></p>,\n",
       " <p id=\"paragraph-id\"><b>Some bold text</b></p>]"
      ]
     },
     "execution_count": 23,
     "metadata": {},
     "output_type": "execute_result"
    }
   ],
   "source": [
    "# Nested calls. \n",
    "paragraphs = soup.select(\"body > p\") # Direct descendants of the body\n",
    "paragraphs"
   ]
  },
  {
   "cell_type": "code",
   "execution_count": 24,
   "id": "5eaf2029",
   "metadata": {},
   "outputs": [
    {
     "name": "stdout",
     "output_type": "stream",
     "text": [
      "[<p><i>Some italicized text</i></p>, <p id=\"paragraph-id\"><b>Some bold text</b></p>]\n",
      "[<i>Some italicized text</i>]\n",
      "[]\n"
     ]
    }
   ],
   "source": [
    "print(paragraphs)\n",
    "for paragraph in paragraphs:\n",
    "    print(paragraph.select(\"i\"))"
   ]
  },
  {
   "cell_type": "code",
   "execution_count": 25,
   "id": "2df02d12",
   "metadata": {},
   "outputs": [
    {
     "data": {
      "text/plain": [
       "[<div align=\"middle\">\n",
       " <h1>HTML Webpage</h1>\n",
       " <p>Link to more interesting example: <a href=\"https://keithgalli.github.io/web-scraping/webpage.html\">keithgalli.github.io/web-scraping/webpage.html</a></p>\n",
       " </div>]"
      ]
     },
     "execution_count": 25,
     "metadata": {},
     "output_type": "execute_result"
    }
   ],
   "source": [
    "# Grab by element with specific property\n",
    "soup.select(\"[align=middle]\")"
   ]
  },
  {
   "cell_type": "markdown",
   "id": "7034b741",
   "metadata": {},
   "source": [
    "### Grabbing the string/text from an HTML Element"
   ]
  },
  {
   "cell_type": "code",
   "execution_count": 26,
   "id": "052cb911",
   "metadata": {},
   "outputs": [
    {
     "name": "stdout",
     "output_type": "stream",
     "text": [
      "<h2>A Header</h2>\n"
     ]
    },
    {
     "data": {
      "text/plain": [
       "'A Header'"
      ]
     },
     "execution_count": 26,
     "metadata": {},
     "output_type": "execute_result"
    }
   ],
   "source": [
    "header = soup.find(\"h2\")\n",
    "print(header)\n",
    "header.string"
   ]
  },
  {
   "cell_type": "code",
   "execution_count": 27,
   "id": "df869d51",
   "metadata": {},
   "outputs": [
    {
     "data": {
      "text/plain": [
       "<div align=\"middle\">\n",
       "<h1>HTML Webpage</h1>\n",
       "<p>Link to more interesting example: <a href=\"https://keithgalli.github.io/web-scraping/webpage.html\">keithgalli.github.io/web-scraping/webpage.html</a></p>\n",
       "</div>"
      ]
     },
     "execution_count": 27,
     "metadata": {},
     "output_type": "execute_result"
    }
   ],
   "source": [
    "# It can print out elements of a tag such as div\n",
    "div = soup.find(\"div\")\n",
    "div"
   ]
  },
  {
   "cell_type": "code",
   "execution_count": 28,
   "id": "2a91be84",
   "metadata": {},
   "outputs": [
    {
     "name": "stdout",
     "output_type": "stream",
     "text": [
      "\n",
      "HTML Webpage\n",
      "Link to more interesting example: keithgalli.github.io/web-scraping/webpage.html\n",
      "\n"
     ]
    }
   ],
   "source": [
    "div = soup.find(\"div\")\n",
    "print(div.get_text())"
   ]
  },
  {
   "cell_type": "markdown",
   "id": "8a57c143",
   "metadata": {},
   "source": [
    "### Getting a property of HTML element (href, src, id, class, etc)"
   ]
  },
  {
   "cell_type": "code",
   "execution_count": 29,
   "id": "8347a3f9",
   "metadata": {},
   "outputs": [
    {
     "name": "stdout",
     "output_type": "stream",
     "text": [
      "<a href=\"https://keithgalli.github.io/web-scraping/webpage.html\">keithgalli.github.io/web-scraping/webpage.html</a>\n"
     ]
    },
    {
     "data": {
      "text/plain": [
       "'https://keithgalli.github.io/web-scraping/webpage.html'"
      ]
     },
     "execution_count": 29,
     "metadata": {},
     "output_type": "execute_result"
    }
   ],
   "source": [
    "# Getting a link\n",
    "link = soup.find(\"a\")\n",
    "print(link)\n",
    "link[\"href\"]"
   ]
  },
  {
   "cell_type": "code",
   "execution_count": 30,
   "id": "5d90b39f",
   "metadata": {},
   "outputs": [
    {
     "name": "stdout",
     "output_type": "stream",
     "text": [
      "[<p id=\"paragraph-id\"><b>Some bold text</b></p>]\n"
     ]
    },
    {
     "data": {
      "text/plain": [
       "'paragraph-id'"
      ]
     },
     "execution_count": 30,
     "metadata": {},
     "output_type": "execute_result"
    }
   ],
   "source": [
    "paragraph = soup.select(\"p#paragraph-id\")\n",
    "print(paragraph)\n",
    "paragraph[0][\"id\"]"
   ]
  },
  {
   "cell_type": "markdown",
   "id": "8e6361b2",
   "metadata": {},
   "source": [
    "### Code navigation (parents, children, siblings)"
   ]
  },
  {
   "cell_type": "markdown",
   "id": "4f978ad0",
   "metadata": {},
   "source": [
    "#### Path Syntax"
   ]
  },
  {
   "cell_type": "code",
   "execution_count": 31,
   "id": "41bef3fc",
   "metadata": {},
   "outputs": [
    {
     "data": {
      "text/plain": [
       "<html>\n",
       "<head>\n",
       "<title>HTML Example</title>\n",
       "</head>\n",
       "<body>\n",
       "<div align=\"middle\">\n",
       "<h1>HTML Webpage</h1>\n",
       "<p>Link to more interesting example: <a href=\"https://keithgalli.github.io/web-scraping/webpage.html\">keithgalli.github.io/web-scraping/webpage.html</a></p>\n",
       "</div>\n",
       "<h2>A Header</h2>\n",
       "<p><i>Some italicized text</i></p>\n",
       "<h2>Another header</h2>\n",
       "<p id=\"paragraph-id\"><b>Some bold text</b></p>\n",
       "</body>\n",
       "</html>"
      ]
     },
     "execution_count": 31,
     "metadata": {},
     "output_type": "execute_result"
    }
   ],
   "source": [
    "soup"
   ]
  },
  {
   "cell_type": "code",
   "execution_count": 32,
   "id": "6a301b3c",
   "metadata": {},
   "outputs": [
    {
     "data": {
      "text/plain": [
       "<body>\n",
       "<div align=\"middle\">\n",
       "<h1>HTML Webpage</h1>\n",
       "<p>Link to more interesting example: <a href=\"https://keithgalli.github.io/web-scraping/webpage.html\">keithgalli.github.io/web-scraping/webpage.html</a></p>\n",
       "</div>\n",
       "<h2>A Header</h2>\n",
       "<p><i>Some italicized text</i></p>\n",
       "<h2>Another header</h2>\n",
       "<p id=\"paragraph-id\"><b>Some bold text</b></p>\n",
       "</body>"
      ]
     },
     "execution_count": 32,
     "metadata": {},
     "output_type": "execute_result"
    }
   ],
   "source": [
    "soup.body"
   ]
  },
  {
   "cell_type": "code",
   "execution_count": 33,
   "id": "c3de131b",
   "metadata": {},
   "outputs": [
    {
     "data": {
      "text/plain": [
       "<div align=\"middle\">\n",
       "<h1>HTML Webpage</h1>\n",
       "<p>Link to more interesting example: <a href=\"https://keithgalli.github.io/web-scraping/webpage.html\">keithgalli.github.io/web-scraping/webpage.html</a></p>\n",
       "</div>"
      ]
     },
     "execution_count": 33,
     "metadata": {},
     "output_type": "execute_result"
    }
   ],
   "source": [
    "soup.body.div"
   ]
  },
  {
   "cell_type": "code",
   "execution_count": 34,
   "id": "1a334006",
   "metadata": {},
   "outputs": [
    {
     "data": {
      "text/plain": [
       "<h1>HTML Webpage</h1>"
      ]
     },
     "execution_count": 34,
     "metadata": {},
     "output_type": "execute_result"
    }
   ],
   "source": [
    "soup.body.div.h1"
   ]
  },
  {
   "cell_type": "code",
   "execution_count": 35,
   "id": "f1cab812",
   "metadata": {},
   "outputs": [
    {
     "data": {
      "text/plain": [
       "'HTML Webpage'"
      ]
     },
     "execution_count": 35,
     "metadata": {},
     "output_type": "execute_result"
    }
   ],
   "source": [
    "soup.body.div.h1.string"
   ]
  },
  {
   "cell_type": "markdown",
   "id": "f7280e18",
   "metadata": {},
   "source": [
    "### Parent, Sibling, Child"
   ]
  },
  {
   "cell_type": "code",
   "execution_count": 36,
   "id": "9c14ee74",
   "metadata": {},
   "outputs": [
    {
     "name": "stdout",
     "output_type": "stream",
     "text": [
      "<body>\n",
      " <div align=\"middle\">\n",
      "  <h1>\n",
      "   HTML Webpage\n",
      "  </h1>\n",
      "  <p>\n",
      "   Link to more interesting example:\n",
      "   <a href=\"https://keithgalli.github.io/web-scraping/webpage.html\">\n",
      "    keithgalli.github.io/web-scraping/webpage.html\n",
      "   </a>\n",
      "  </p>\n",
      " </div>\n",
      " <h2>\n",
      "  A Header\n",
      " </h2>\n",
      " <p>\n",
      "  <i>\n",
      "   Some italicized text\n",
      "  </i>\n",
      " </p>\n",
      " <h2>\n",
      "  Another header\n",
      " </h2>\n",
      " <p id=\"paragraph-id\">\n",
      "  <b>\n",
      "   Some bold text\n",
      "  </b>\n",
      " </p>\n",
      "</body>\n",
      "\n"
     ]
    }
   ],
   "source": [
    "print(soup.body.prettify())"
   ]
  },
  {
   "cell_type": "code",
   "execution_count": 37,
   "id": "52258e32",
   "metadata": {},
   "outputs": [
    {
     "data": {
      "text/plain": [
       "[<h2>A Header</h2>,\n",
       " <p><i>Some italicized text</i></p>,\n",
       " <h2>Another header</h2>,\n",
       " <p id=\"paragraph-id\"><b>Some bold text</b></p>]"
      ]
     },
     "execution_count": 37,
     "metadata": {},
     "output_type": "execute_result"
    }
   ],
   "source": [
    "soup.body.find(\"div\").find_next_siblings()"
   ]
  },
  {
   "cell_type": "markdown",
   "id": "6893c0ee",
   "metadata": {},
   "source": [
    "### Exersices\n",
    "\n",
    "https://keithgalli.github.io/web-scraping/webpage.html"
   ]
  },
  {
   "cell_type": "code",
   "execution_count": 38,
   "id": "c49fb75b",
   "metadata": {},
   "outputs": [],
   "source": [
    "import requests\n",
    "from bs4 import BeautifulSoup as bs"
   ]
  },
  {
   "cell_type": "code",
   "execution_count": 39,
   "id": "02d42fc4",
   "metadata": {},
   "outputs": [],
   "source": [
    "url = \"https://keithgalli.github.io/web-scraping/webpage.html\"\n",
    "r = requests.get(url)\n",
    "webpage = bs(r.content)"
   ]
  },
  {
   "cell_type": "code",
   "execution_count": 40,
   "id": "9633ba5f",
   "metadata": {},
   "outputs": [],
   "source": [
    "# print(webpage.prettify())"
   ]
  },
  {
   "cell_type": "markdown",
   "id": "01ad825d",
   "metadata": {},
   "source": [
    "##### Exercise #1: Grab all social links on webpage in 3 different ways"
   ]
  },
  {
   "cell_type": "markdown",
   "id": "86728af9",
   "metadata": {},
   "source": [
    "<b> Method 1"
   ]
  },
  {
   "cell_type": "code",
   "execution_count": 41,
   "id": "e7f9da7d",
   "metadata": {},
   "outputs": [
    {
     "name": "stdout",
     "output_type": "stream",
     "text": [
      "https://www.instagram.com/keithgalli/\n",
      "https://twitter.com/keithgalli\n",
      "https://www.linkedin.com/in/keithgalli/\n",
      "https://www.tiktok.com/@keithgalli\n"
     ]
    }
   ],
   "source": [
    "# My method\n",
    "links = webpage.find_all(\"li\",attrs=\"social\")\n",
    "# print(links)\n",
    "for link in links:\n",
    "    print(link.a[\"href\"])"
   ]
  },
  {
   "cell_type": "code",
   "execution_count": 42,
   "id": "8b825fe0",
   "metadata": {},
   "outputs": [
    {
     "data": {
      "text/plain": [
       "['https://www.instagram.com/keithgalli/',\n",
       " 'https://twitter.com/keithgalli',\n",
       " 'https://www.linkedin.com/in/keithgalli/',\n",
       " 'https://www.tiktok.com/@keithgalli']"
      ]
     },
     "execution_count": 42,
     "metadata": {},
     "output_type": "execute_result"
    }
   ],
   "source": [
    "# video method\n",
    "ulist = webpage.find(\"ul\",attrs=\"socials\")\n",
    "links = ulist.find_all(\"a\")\n",
    "actual_links = [link[\"href\"] for link in links]\n",
    "actual_links"
   ]
  },
  {
   "cell_type": "markdown",
   "id": "d48c15d6",
   "metadata": {},
   "source": [
    "<b> Method 2"
   ]
  },
  {
   "cell_type": "code",
   "execution_count": 43,
   "id": "6f9ce593",
   "metadata": {},
   "outputs": [
    {
     "name": "stdout",
     "output_type": "stream",
     "text": [
      "https://www.instagram.com/keithgalli/\n",
      "https://twitter.com/keithgalli\n",
      "https://www.linkedin.com/in/keithgalli/\n",
      "https://www.tiktok.com/@keithgalli\n"
     ]
    }
   ],
   "source": [
    "# My method\n",
    "# elements a inside of ul.socials... for class we use .\n",
    "links = webpage.select(\"ul.socials a\")\n",
    "# print(links)\n",
    "for link in links:\n",
    "    print(link[\"href\"])"
   ]
  },
  {
   "cell_type": "code",
   "execution_count": 44,
   "id": "20f6a864",
   "metadata": {},
   "outputs": [
    {
     "data": {
      "text/plain": [
       "['https://www.instagram.com/keithgalli/',\n",
       " 'https://twitter.com/keithgalli',\n",
       " 'https://www.linkedin.com/in/keithgalli/',\n",
       " 'https://www.tiktok.com/@keithgalli']"
      ]
     },
     "execution_count": 44,
     "metadata": {},
     "output_type": "execute_result"
    }
   ],
   "source": [
    "# Video method\n",
    "links = webpage.select(\"ul.socials a\")\n",
    "actual_links = [link[\"href\"] for link in links]\n",
    "actual_links"
   ]
  },
  {
   "cell_type": "markdown",
   "id": "f1404dc4",
   "metadata": {},
   "source": [
    "<b> Method 3"
   ]
  },
  {
   "cell_type": "code",
   "execution_count": 45,
   "id": "bc9f20aa",
   "metadata": {},
   "outputs": [
    {
     "data": {
      "text/plain": [
       "['https://www.instagram.com/keithgalli/',\n",
       " 'https://twitter.com/keithgalli',\n",
       " 'https://www.linkedin.com/in/keithgalli/',\n",
       " 'https://www.tiktok.com/@keithgalli']"
      ]
     },
     "execution_count": 45,
     "metadata": {},
     "output_type": "execute_result"
    }
   ],
   "source": [
    "# My Method\n",
    "links = webpage.find_all(\"li\",attrs=\"social\")\n",
    "actual_links = [link.a[\"href\"] for link in links]\n",
    "actual_links"
   ]
  },
  {
   "cell_type": "code",
   "execution_count": 46,
   "id": "be955c8f",
   "metadata": {},
   "outputs": [
    {
     "data": {
      "text/plain": [
       "['https://www.instagram.com/keithgalli/',\n",
       " 'https://twitter.com/keithgalli',\n",
       " 'https://www.linkedin.com/in/keithgalli/',\n",
       " 'https://www.tiktok.com/@keithgalli']"
      ]
     },
     "execution_count": 46,
     "metadata": {},
     "output_type": "execute_result"
    }
   ],
   "source": [
    "# Video Method\n",
    "links = webpage.select(\"li.social a\")\n",
    "actual_links = [link[\"href\"] for link in links]\n",
    "actual_links"
   ]
  },
  {
   "cell_type": "markdown",
   "id": "09554cd4",
   "metadata": {},
   "source": [
    "##### Exercise #2: Scrape an HTML table into a Pandas Dataframe"
   ]
  },
  {
   "cell_type": "code",
   "execution_count": 47,
   "id": "7016caab",
   "metadata": {},
   "outputs": [],
   "source": [
    "import pandas as pd"
   ]
  },
  {
   "cell_type": "code",
   "execution_count": 48,
   "id": "2f1db8f9",
   "metadata": {},
   "outputs": [
    {
     "name": "stdout",
     "output_type": "stream",
     "text": [
      "['S', 'Team', 'League', 'GP', 'G', 'A', 'TP', 'PIM', '+/-', '\\xa0', 'POST', 'GP', 'G', 'A', 'TP', 'PIM', '+/-']\n"
     ]
    }
   ],
   "source": [
    "# Headers\n",
    "headers = webpage.find_all(\"th\")\n",
    "headers = [header.string for header in headers]\n",
    "print(headers)"
   ]
  },
  {
   "cell_type": "code",
   "execution_count": 49,
   "id": "120e55d0",
   "metadata": {},
   "outputs": [
    {
     "data": {
      "text/plain": [
       "[' MIT (Mass. Inst. of Tech.) ',\n",
       " ' MIT (Mass. Inst. of Tech.) ',\n",
       " ' MIT (Mass. Inst. of Tech.) ',\n",
       " ' MIT (Mass. Inst. of Tech.) ']"
      ]
     },
     "execution_count": 49,
     "metadata": {},
     "output_type": "execute_result"
    }
   ],
   "source": [
    "# Half Method: \n",
    "# Column 1\n",
    "data1 = webpage.find_all(\"td\", attrs={\"class\":[\"season sorted\"]})\n",
    "data1 = [d.string.strip() for d in data1]\n",
    "# Column 2\n",
    "data2 = webpage.select(\"td.team a\")\n",
    "data2 = [d.string for d in data2]\n",
    "# Column 3\n",
    "data3 = webpage.select(\"td.league a\")\n",
    "data3 = [d.string for d in data3]\n",
    "data3\n",
    "data4 = webpage.find_all(\"td\", attrs={\"class\":[\"regular gp\"]})\n",
    "data4 = [d.string for d in data4]\n",
    "data2"
   ]
  },
  {
   "cell_type": "code",
   "execution_count": 50,
   "id": "c22c141b",
   "metadata": {},
   "outputs": [
    {
     "data": {
      "text/html": [
       "<div>\n",
       "<style scoped>\n",
       "    .dataframe tbody tr th:only-of-type {\n",
       "        vertical-align: middle;\n",
       "    }\n",
       "\n",
       "    .dataframe tbody tr th {\n",
       "        vertical-align: top;\n",
       "    }\n",
       "\n",
       "    .dataframe thead th {\n",
       "        text-align: right;\n",
       "    }\n",
       "</style>\n",
       "<table border=\"1\" class=\"dataframe\">\n",
       "  <thead>\n",
       "    <tr style=\"text-align: right;\">\n",
       "      <th></th>\n",
       "      <th>S</th>\n",
       "      <th>League</th>\n",
       "    </tr>\n",
       "  </thead>\n",
       "  <tbody>\n",
       "    <tr>\n",
       "      <th>0</th>\n",
       "      <td>2014-15</td>\n",
       "      <td>ACHA II</td>\n",
       "    </tr>\n",
       "    <tr>\n",
       "      <th>1</th>\n",
       "      <td>2015-16</td>\n",
       "      <td>ACHA II</td>\n",
       "    </tr>\n",
       "    <tr>\n",
       "      <th>2</th>\n",
       "      <td>2016-17</td>\n",
       "      <td>ACHA II</td>\n",
       "    </tr>\n",
       "    <tr>\n",
       "      <th>3</th>\n",
       "      <td>2017-18</td>\n",
       "      <td></td>\n",
       "    </tr>\n",
       "    <tr>\n",
       "      <th>4</th>\n",
       "      <td>2018-19</td>\n",
       "      <td>ACHA III</td>\n",
       "    </tr>\n",
       "  </tbody>\n",
       "</table>\n",
       "</div>"
      ],
      "text/plain": [
       "         S      League\n",
       "0  2014-15    ACHA II \n",
       "1  2015-16    ACHA II \n",
       "2  2016-17    ACHA II \n",
       "3  2017-18            \n",
       "4  2018-19   ACHA III "
      ]
     },
     "execution_count": 50,
     "metadata": {},
     "output_type": "execute_result"
    }
   ],
   "source": [
    "table = pd.DataFrame({headers[0]:data1,headers[2]:data3})\n",
    "table"
   ]
  },
  {
   "cell_type": "markdown",
   "id": "16050126",
   "metadata": {},
   "source": [
    "<b> Built-in Method"
   ]
  },
  {
   "cell_type": "code",
   "execution_count": 51,
   "id": "7c8aa12f",
   "metadata": {},
   "outputs": [
    {
     "data": {
      "text/html": [
       "<div>\n",
       "<style scoped>\n",
       "    .dataframe tbody tr th:only-of-type {\n",
       "        vertical-align: middle;\n",
       "    }\n",
       "\n",
       "    .dataframe tbody tr th {\n",
       "        vertical-align: top;\n",
       "    }\n",
       "\n",
       "    .dataframe thead th {\n",
       "        text-align: right;\n",
       "    }\n",
       "</style>\n",
       "<table border=\"1\" class=\"dataframe\">\n",
       "  <thead>\n",
       "    <tr style=\"text-align: right;\">\n",
       "      <th></th>\n",
       "      <th>S</th>\n",
       "      <th>Team</th>\n",
       "      <th>League</th>\n",
       "      <th>GP</th>\n",
       "      <th>G</th>\n",
       "      <th>A</th>\n",
       "      <th>TP</th>\n",
       "      <th>PIM</th>\n",
       "      <th>+/-</th>\n",
       "      <th>Unnamed: 9</th>\n",
       "      <th>POST</th>\n",
       "      <th>GP.1</th>\n",
       "      <th>G.1</th>\n",
       "      <th>A.1</th>\n",
       "      <th>TP.1</th>\n",
       "      <th>PIM.1</th>\n",
       "      <th>+/-.1</th>\n",
       "    </tr>\n",
       "  </thead>\n",
       "  <tbody>\n",
       "    <tr>\n",
       "      <th>0</th>\n",
       "      <td>2014-15</td>\n",
       "      <td>MIT (Mass. Inst. of Tech.)</td>\n",
       "      <td>ACHA II</td>\n",
       "      <td>17.0</td>\n",
       "      <td>3.0</td>\n",
       "      <td>9.0</td>\n",
       "      <td>12.0</td>\n",
       "      <td>20.0</td>\n",
       "      <td>NaN</td>\n",
       "      <td>|</td>\n",
       "      <td>NaN</td>\n",
       "      <td>NaN</td>\n",
       "      <td>NaN</td>\n",
       "      <td>NaN</td>\n",
       "      <td>NaN</td>\n",
       "      <td>NaN</td>\n",
       "      <td>NaN</td>\n",
       "    </tr>\n",
       "    <tr>\n",
       "      <th>1</th>\n",
       "      <td>2015-16</td>\n",
       "      <td>MIT (Mass. Inst. of Tech.)</td>\n",
       "      <td>ACHA II</td>\n",
       "      <td>9.0</td>\n",
       "      <td>1.0</td>\n",
       "      <td>1.0</td>\n",
       "      <td>2.0</td>\n",
       "      <td>2.0</td>\n",
       "      <td>NaN</td>\n",
       "      <td>|</td>\n",
       "      <td>NaN</td>\n",
       "      <td>NaN</td>\n",
       "      <td>NaN</td>\n",
       "      <td>NaN</td>\n",
       "      <td>NaN</td>\n",
       "      <td>NaN</td>\n",
       "      <td>NaN</td>\n",
       "    </tr>\n",
       "    <tr>\n",
       "      <th>2</th>\n",
       "      <td>2016-17</td>\n",
       "      <td>MIT (Mass. Inst. of Tech.)</td>\n",
       "      <td>ACHA II</td>\n",
       "      <td>12.0</td>\n",
       "      <td>5.0</td>\n",
       "      <td>5.0</td>\n",
       "      <td>10.0</td>\n",
       "      <td>8.0</td>\n",
       "      <td>0.0</td>\n",
       "      <td>|</td>\n",
       "      <td>NaN</td>\n",
       "      <td>NaN</td>\n",
       "      <td>NaN</td>\n",
       "      <td>NaN</td>\n",
       "      <td>NaN</td>\n",
       "      <td>NaN</td>\n",
       "      <td>NaN</td>\n",
       "    </tr>\n",
       "    <tr>\n",
       "      <th>3</th>\n",
       "      <td>2017-18</td>\n",
       "      <td>Did not play</td>\n",
       "      <td>NaN</td>\n",
       "      <td>NaN</td>\n",
       "      <td>NaN</td>\n",
       "      <td>NaN</td>\n",
       "      <td>NaN</td>\n",
       "      <td>NaN</td>\n",
       "      <td>NaN</td>\n",
       "      <td>|</td>\n",
       "      <td>NaN</td>\n",
       "      <td>NaN</td>\n",
       "      <td>NaN</td>\n",
       "      <td>NaN</td>\n",
       "      <td>NaN</td>\n",
       "      <td>NaN</td>\n",
       "      <td>NaN</td>\n",
       "    </tr>\n",
       "    <tr>\n",
       "      <th>4</th>\n",
       "      <td>2018-19</td>\n",
       "      <td>MIT (Mass. Inst. of Tech.)</td>\n",
       "      <td>ACHA III</td>\n",
       "      <td>8.0</td>\n",
       "      <td>5.0</td>\n",
       "      <td>10.0</td>\n",
       "      <td>15.0</td>\n",
       "      <td>8.0</td>\n",
       "      <td>NaN</td>\n",
       "      <td>|</td>\n",
       "      <td>NaN</td>\n",
       "      <td>NaN</td>\n",
       "      <td>NaN</td>\n",
       "      <td>NaN</td>\n",
       "      <td>NaN</td>\n",
       "      <td>NaN</td>\n",
       "      <td>NaN</td>\n",
       "    </tr>\n",
       "  </tbody>\n",
       "</table>\n",
       "</div>"
      ],
      "text/plain": [
       "         S                        Team    League    GP    G     A    TP   PIM  \\\n",
       "0  2014-15  MIT (Mass. Inst. of Tech.)   ACHA II  17.0  3.0   9.0  12.0  20.0   \n",
       "1  2015-16  MIT (Mass. Inst. of Tech.)   ACHA II   9.0  1.0   1.0   2.0   2.0   \n",
       "2  2016-17  MIT (Mass. Inst. of Tech.)   ACHA II  12.0  5.0   5.0  10.0   8.0   \n",
       "3  2017-18                Did not play       NaN   NaN  NaN   NaN   NaN   NaN   \n",
       "4  2018-19  MIT (Mass. Inst. of Tech.)  ACHA III   8.0  5.0  10.0  15.0   8.0   \n",
       "\n",
       "   +/- Unnamed: 9  POST  GP.1  G.1  A.1  TP.1  PIM.1  +/-.1  \n",
       "0  NaN          |   NaN   NaN  NaN  NaN   NaN    NaN    NaN  \n",
       "1  NaN          |   NaN   NaN  NaN  NaN   NaN    NaN    NaN  \n",
       "2  0.0          |   NaN   NaN  NaN  NaN   NaN    NaN    NaN  \n",
       "3  NaN          |   NaN   NaN  NaN  NaN   NaN    NaN    NaN  \n",
       "4  NaN          |   NaN   NaN  NaN  NaN   NaN    NaN    NaN  "
      ]
     },
     "execution_count": 51,
     "metadata": {},
     "output_type": "execute_result"
    }
   ],
   "source": [
    "# Built in method\n",
    "table = webpage.find_all(\"table\")\n",
    "df = pd.read_html(str(table))[0]\n",
    "df"
   ]
  },
  {
   "cell_type": "markdown",
   "id": "97bf3287",
   "metadata": {},
   "source": [
    "<b> Video Method"
   ]
  },
  {
   "cell_type": "code",
   "execution_count": 52,
   "id": "708c7312",
   "metadata": {},
   "outputs": [],
   "source": [
    "import pandas as pd"
   ]
  },
  {
   "cell_type": "code",
   "execution_count": 53,
   "id": "d75bd3cb",
   "metadata": {},
   "outputs": [
    {
     "name": "stdout",
     "output_type": "stream",
     "text": [
      "['S', 'Team', 'League', 'GP', 'G', 'A', 'TP', 'PIM', '+/-', '\\xa0', 'POST', 'GP', 'G', 'A', 'TP', 'PIM', '+/-']\n"
     ]
    }
   ],
   "source": [
    "# Headers\n",
    "table = webpage.select(\"table.hockey-stats\")[0]\n",
    "columns = table.find(\"thead\").find_all(\"th\")\n",
    "column_names = [c.string for c in columns]\n",
    "print(column_names)"
   ]
  },
  {
   "cell_type": "code",
   "execution_count": 54,
   "id": "38fe15b0",
   "metadata": {},
   "outputs": [
    {
     "name": "stdout",
     "output_type": "stream",
     "text": [
      "[['2014-15', 'MIT (Mass. Inst. of Tech.)', 'ACHA II', '17', '3', '9', '12', '20', '', '|', '', '', '', '', '', '', ''], ['2015-16', 'MIT (Mass. Inst. of Tech.)', 'ACHA II', '9', '1', '1', '2', '2', '', '|', '', '', '', '', '', '', ''], ['2016-17', 'MIT (Mass. Inst. of Tech.)', 'ACHA II', '12', '5', '5', '10', '8', '0', '|', '', '', '', '', '', '', ''], ['2017-18', 'Did not play', '', '', '', '', '', '', '', '|', '', '', '', '', '', '', ''], ['2018-19', 'MIT (Mass. Inst. of Tech.)', 'ACHA III', '8', '5', '10', '15', '8', '', '|', '', '', '', '', '', '', '']]\n"
     ]
    }
   ],
   "source": [
    "# Rows in tables\n",
    "l = []\n",
    "table_rows = webpage.find(\"tbody\").find_all(\"tr\")\n",
    "for row in table_rows:\n",
    "    td = row.find_all(\"td\")\n",
    "    row = [t.get_text().strip() for t in td]\n",
    "    l.append(row)\n",
    "\n",
    "print(l)"
   ]
  },
  {
   "cell_type": "code",
   "execution_count": 55,
   "id": "86ad6388",
   "metadata": {},
   "outputs": [
    {
     "data": {
      "text/html": [
       "<div>\n",
       "<style scoped>\n",
       "    .dataframe tbody tr th:only-of-type {\n",
       "        vertical-align: middle;\n",
       "    }\n",
       "\n",
       "    .dataframe tbody tr th {\n",
       "        vertical-align: top;\n",
       "    }\n",
       "\n",
       "    .dataframe thead th {\n",
       "        text-align: right;\n",
       "    }\n",
       "</style>\n",
       "<table border=\"1\" class=\"dataframe\">\n",
       "  <thead>\n",
       "    <tr style=\"text-align: right;\">\n",
       "      <th></th>\n",
       "      <th>S</th>\n",
       "      <th>Team</th>\n",
       "      <th>League</th>\n",
       "      <th>GP</th>\n",
       "      <th>G</th>\n",
       "      <th>A</th>\n",
       "      <th>TP</th>\n",
       "      <th>PIM</th>\n",
       "      <th>+/-</th>\n",
       "      <th></th>\n",
       "      <th>POST</th>\n",
       "      <th>GP</th>\n",
       "      <th>G</th>\n",
       "      <th>A</th>\n",
       "      <th>TP</th>\n",
       "      <th>PIM</th>\n",
       "      <th>+/-</th>\n",
       "    </tr>\n",
       "  </thead>\n",
       "  <tbody>\n",
       "    <tr>\n",
       "      <th>0</th>\n",
       "      <td>2014-15</td>\n",
       "      <td>MIT (Mass. Inst. of Tech.)</td>\n",
       "      <td>ACHA II</td>\n",
       "      <td>17</td>\n",
       "      <td>3</td>\n",
       "      <td>9</td>\n",
       "      <td>12</td>\n",
       "      <td>20</td>\n",
       "      <td></td>\n",
       "      <td>|</td>\n",
       "      <td></td>\n",
       "      <td></td>\n",
       "      <td></td>\n",
       "      <td></td>\n",
       "      <td></td>\n",
       "      <td></td>\n",
       "      <td></td>\n",
       "    </tr>\n",
       "    <tr>\n",
       "      <th>1</th>\n",
       "      <td>2015-16</td>\n",
       "      <td>MIT (Mass. Inst. of Tech.)</td>\n",
       "      <td>ACHA II</td>\n",
       "      <td>9</td>\n",
       "      <td>1</td>\n",
       "      <td>1</td>\n",
       "      <td>2</td>\n",
       "      <td>2</td>\n",
       "      <td></td>\n",
       "      <td>|</td>\n",
       "      <td></td>\n",
       "      <td></td>\n",
       "      <td></td>\n",
       "      <td></td>\n",
       "      <td></td>\n",
       "      <td></td>\n",
       "      <td></td>\n",
       "    </tr>\n",
       "    <tr>\n",
       "      <th>2</th>\n",
       "      <td>2016-17</td>\n",
       "      <td>MIT (Mass. Inst. of Tech.)</td>\n",
       "      <td>ACHA II</td>\n",
       "      <td>12</td>\n",
       "      <td>5</td>\n",
       "      <td>5</td>\n",
       "      <td>10</td>\n",
       "      <td>8</td>\n",
       "      <td>0</td>\n",
       "      <td>|</td>\n",
       "      <td></td>\n",
       "      <td></td>\n",
       "      <td></td>\n",
       "      <td></td>\n",
       "      <td></td>\n",
       "      <td></td>\n",
       "      <td></td>\n",
       "    </tr>\n",
       "    <tr>\n",
       "      <th>3</th>\n",
       "      <td>2017-18</td>\n",
       "      <td>Did not play</td>\n",
       "      <td></td>\n",
       "      <td></td>\n",
       "      <td></td>\n",
       "      <td></td>\n",
       "      <td></td>\n",
       "      <td></td>\n",
       "      <td></td>\n",
       "      <td>|</td>\n",
       "      <td></td>\n",
       "      <td></td>\n",
       "      <td></td>\n",
       "      <td></td>\n",
       "      <td></td>\n",
       "      <td></td>\n",
       "      <td></td>\n",
       "    </tr>\n",
       "    <tr>\n",
       "      <th>4</th>\n",
       "      <td>2018-19</td>\n",
       "      <td>MIT (Mass. Inst. of Tech.)</td>\n",
       "      <td>ACHA III</td>\n",
       "      <td>8</td>\n",
       "      <td>5</td>\n",
       "      <td>10</td>\n",
       "      <td>15</td>\n",
       "      <td>8</td>\n",
       "      <td></td>\n",
       "      <td>|</td>\n",
       "      <td></td>\n",
       "      <td></td>\n",
       "      <td></td>\n",
       "      <td></td>\n",
       "      <td></td>\n",
       "      <td></td>\n",
       "      <td></td>\n",
       "    </tr>\n",
       "  </tbody>\n",
       "</table>\n",
       "</div>"
      ],
      "text/plain": [
       "         S                        Team    League  GP  G   A  TP PIM +/-     \\\n",
       "0  2014-15  MIT (Mass. Inst. of Tech.)   ACHA II  17  3   9  12  20      |   \n",
       "1  2015-16  MIT (Mass. Inst. of Tech.)   ACHA II   9  1   1   2   2      |   \n",
       "2  2016-17  MIT (Mass. Inst. of Tech.)   ACHA II  12  5   5  10   8   0  |   \n",
       "3  2017-18                Did not play                                   |   \n",
       "4  2018-19  MIT (Mass. Inst. of Tech.)  ACHA III   8  5  10  15   8      |   \n",
       "\n",
       "  POST GP G A TP PIM +/-  \n",
       "0                         \n",
       "1                         \n",
       "2                         \n",
       "3                         \n",
       "4                         "
      ]
     },
     "execution_count": 55,
     "metadata": {},
     "output_type": "execute_result"
    }
   ],
   "source": [
    "# Creating DataFrame\n",
    "df = pd.DataFrame(l,columns=headers)\n",
    "df"
   ]
  },
  {
   "cell_type": "code",
   "execution_count": 57,
   "id": "79c90ff5",
   "metadata": {},
   "outputs": [
    {
     "data": {
      "text/plain": [
       "0    MIT (Mass. Inst. of Tech.)\n",
       "1    MIT (Mass. Inst. of Tech.)\n",
       "2    MIT (Mass. Inst. of Tech.)\n",
       "3                  Did not play\n",
       "4    MIT (Mass. Inst. of Tech.)\n",
       "Name: Team, dtype: object"
      ]
     },
     "execution_count": 57,
     "metadata": {},
     "output_type": "execute_result"
    }
   ],
   "source": [
    "df[\"Team\"]"
   ]
  },
  {
   "cell_type": "code",
   "execution_count": 58,
   "id": "38d3c096",
   "metadata": {},
   "outputs": [
    {
     "data": {
      "text/html": [
       "<div>\n",
       "<style scoped>\n",
       "    .dataframe tbody tr th:only-of-type {\n",
       "        vertical-align: middle;\n",
       "    }\n",
       "\n",
       "    .dataframe tbody tr th {\n",
       "        vertical-align: top;\n",
       "    }\n",
       "\n",
       "    .dataframe thead th {\n",
       "        text-align: right;\n",
       "    }\n",
       "</style>\n",
       "<table border=\"1\" class=\"dataframe\">\n",
       "  <thead>\n",
       "    <tr style=\"text-align: right;\">\n",
       "      <th></th>\n",
       "      <th>S</th>\n",
       "      <th>Team</th>\n",
       "      <th>League</th>\n",
       "      <th>GP</th>\n",
       "      <th>G</th>\n",
       "      <th>A</th>\n",
       "      <th>TP</th>\n",
       "      <th>PIM</th>\n",
       "      <th>+/-</th>\n",
       "      <th></th>\n",
       "      <th>POST</th>\n",
       "      <th>GP</th>\n",
       "      <th>G</th>\n",
       "      <th>A</th>\n",
       "      <th>TP</th>\n",
       "      <th>PIM</th>\n",
       "      <th>+/-</th>\n",
       "    </tr>\n",
       "  </thead>\n",
       "  <tbody>\n",
       "    <tr>\n",
       "      <th>0</th>\n",
       "      <td>2014-15</td>\n",
       "      <td>MIT (Mass. Inst. of Tech.)</td>\n",
       "      <td>ACHA II</td>\n",
       "      <td>17</td>\n",
       "      <td>3</td>\n",
       "      <td>9</td>\n",
       "      <td>12</td>\n",
       "      <td>20</td>\n",
       "      <td></td>\n",
       "      <td>|</td>\n",
       "      <td></td>\n",
       "      <td></td>\n",
       "      <td></td>\n",
       "      <td></td>\n",
       "      <td></td>\n",
       "      <td></td>\n",
       "      <td></td>\n",
       "    </tr>\n",
       "    <tr>\n",
       "      <th>1</th>\n",
       "      <td>2015-16</td>\n",
       "      <td>MIT (Mass. Inst. of Tech.)</td>\n",
       "      <td>ACHA II</td>\n",
       "      <td>9</td>\n",
       "      <td>1</td>\n",
       "      <td>1</td>\n",
       "      <td>2</td>\n",
       "      <td>2</td>\n",
       "      <td></td>\n",
       "      <td>|</td>\n",
       "      <td></td>\n",
       "      <td></td>\n",
       "      <td></td>\n",
       "      <td></td>\n",
       "      <td></td>\n",
       "      <td></td>\n",
       "      <td></td>\n",
       "    </tr>\n",
       "    <tr>\n",
       "      <th>2</th>\n",
       "      <td>2016-17</td>\n",
       "      <td>MIT (Mass. Inst. of Tech.)</td>\n",
       "      <td>ACHA II</td>\n",
       "      <td>12</td>\n",
       "      <td>5</td>\n",
       "      <td>5</td>\n",
       "      <td>10</td>\n",
       "      <td>8</td>\n",
       "      <td>0</td>\n",
       "      <td>|</td>\n",
       "      <td></td>\n",
       "      <td></td>\n",
       "      <td></td>\n",
       "      <td></td>\n",
       "      <td></td>\n",
       "      <td></td>\n",
       "      <td></td>\n",
       "    </tr>\n",
       "    <tr>\n",
       "      <th>4</th>\n",
       "      <td>2018-19</td>\n",
       "      <td>MIT (Mass. Inst. of Tech.)</td>\n",
       "      <td>ACHA III</td>\n",
       "      <td>8</td>\n",
       "      <td>5</td>\n",
       "      <td>10</td>\n",
       "      <td>15</td>\n",
       "      <td>8</td>\n",
       "      <td></td>\n",
       "      <td>|</td>\n",
       "      <td></td>\n",
       "      <td></td>\n",
       "      <td></td>\n",
       "      <td></td>\n",
       "      <td></td>\n",
       "      <td></td>\n",
       "      <td></td>\n",
       "    </tr>\n",
       "  </tbody>\n",
       "</table>\n",
       "</div>"
      ],
      "text/plain": [
       "         S                        Team    League  GP  G   A  TP PIM +/-     \\\n",
       "0  2014-15  MIT (Mass. Inst. of Tech.)   ACHA II  17  3   9  12  20      |   \n",
       "1  2015-16  MIT (Mass. Inst. of Tech.)   ACHA II   9  1   1   2   2      |   \n",
       "2  2016-17  MIT (Mass. Inst. of Tech.)   ACHA II  12  5   5  10   8   0  |   \n",
       "4  2018-19  MIT (Mass. Inst. of Tech.)  ACHA III   8  5  10  15   8      |   \n",
       "\n",
       "  POST GP G A TP PIM +/-  \n",
       "0                         \n",
       "1                         \n",
       "2                         \n",
       "4                         "
      ]
     },
     "execution_count": 58,
     "metadata": {},
     "output_type": "execute_result"
    }
   ],
   "source": [
    "df.loc[df[\"Team\"] != \"Did not play\"]"
   ]
  },
  {
   "cell_type": "markdown",
   "id": "4bd1ab34",
   "metadata": {},
   "source": [
    "##### Exercise #3: Grab all fun facts that contain the word “is”"
   ]
  },
  {
   "cell_type": "code",
   "execution_count": 86,
   "id": "3c765d5f",
   "metadata": {},
   "outputs": [
    {
     "data": {
      "text/plain": [
       "['Middle name is Ronald',\n",
       " 'Dunkin Donuts coffee is better than Starbucks',\n",
       " \"A favorite book series of mine is Ender's Game\",\n",
       " 'Current video game of choice is Rocket League',\n",
       " \"The band that I've seen the most times live is the Zac Brown Band\"]"
      ]
     },
     "execution_count": 86,
     "metadata": {},
     "output_type": "execute_result"
    }
   ],
   "source": [
    "# My Method\n",
    "words = webpage.find(\"ul\",attrs={\"class\":\"fun-facts\"})\n",
    "words = words.find_all(\"li\")\n",
    "words = [w.get_text() for w in words if \"is\" in w.get_text()]\n",
    "words"
   ]
  },
  {
   "cell_type": "code",
   "execution_count": 88,
   "id": "7cc587ef",
   "metadata": {},
   "outputs": [
    {
     "data": {
      "text/plain": [
       "['Middle name is Ronald',\n",
       " 'Dunkin Donuts coffee is better than Starbucks',\n",
       " \"A favorite book series of mine is Ender's Game\",\n",
       " 'Current video game of choice is Rocket League',\n",
       " \"The band that I've seen the most times live is the Zac Brown Band\"]"
      ]
     },
     "execution_count": 88,
     "metadata": {},
     "output_type": "execute_result"
    }
   ],
   "source": [
    "# video method\n",
    "import re\n",
    "\n",
    "facts = webpage.select(\"ul.fun-facts li\")\n",
    "facts_with_is = [fact.find(string=re.compile(\"is\")) for fact in facts]\n",
    "facts_with_is = [fact.find_parent().get_text() for fact in facts_with_is if fact]\n",
    "facts_with_is"
   ]
  },
  {
   "cell_type": "markdown",
   "id": "d3f98752",
   "metadata": {},
   "source": [
    "##### Exercise #4: Use beautiful soup to help download an image from a webpage"
   ]
  },
  {
   "cell_type": "code",
   "execution_count": 107,
   "id": "a49d9cdd",
   "metadata": {},
   "outputs": [
    {
     "name": "stdout",
     "output_type": "stream",
     "text": [
      "./images/selfie1.jpg\n"
     ]
    }
   ],
   "source": [
    "base_url = \"https://keithgalli.github.io/web-scraping/\" \n",
    "image = webpage.find_all(\"img\")[0]\n",
    "image_url = image[\"src\"]\n",
    "print(image_url)\n",
    "full_url = base_url+image_url[2:]\n",
    "image_data = requests.get(full_url).content\n",
    "with open(\"image.jpg\",\"wb\") as im:\n",
    "    im.write(image_data)"
   ]
  },
  {
   "cell_type": "code",
   "execution_count": 115,
   "id": "bdfc8220",
   "metadata": {},
   "outputs": [],
   "source": [
    "# video method\n",
    "url = \"https://keithgalli.github.io/web-scraping/\" \n",
    "images = webpage.select(\"div.row div.column img\")  # or image = webpage.select(\"div.column img\")\n",
    "image_url = images[0][\"src\"]\n",
    "full_url = url + image_url\n",
    "img_data = requests.get(full_url).content\n",
    "with open(\"lake_como.jpg\", \"wb\") as handler:\n",
    "    handler.write(img_data)"
   ]
  },
  {
   "cell_type": "markdown",
   "id": "43503430",
   "metadata": {},
   "source": [
    "##### Exercise #5: Solve the mystery challenge!!!"
   ]
  },
  {
   "cell_type": "code",
   "execution_count": 140,
   "id": "8cbfd71b",
   "metadata": {},
   "outputs": [
    {
     "name": "stdout",
     "output_type": "stream",
     "text": [
      " Make sure to smash that like button and subscribe !!!\n"
     ]
    }
   ],
   "source": [
    "# My Method\n",
    "url = \"https://keithgalli.github.io/web-scraping/\" \n",
    "files = webpage.select(\"div.block li a\")\n",
    "files = [url+file[\"href\"] for file in files]\n",
    "\n",
    "s_msg = \"\"\n",
    "\n",
    "for file in files:\n",
    "    f = requests.get(file).content\n",
    "    web_file = bs(f)\n",
    "    msg = web_file.find(\"p\",attrs={\"id\":\"secret-word\"})\n",
    "    s_msg += \" \" + msg.string\n",
    "    \n",
    "print(s_msg)"
   ]
  },
  {
   "cell_type": "code",
   "execution_count": 139,
   "id": "0a9ec855",
   "metadata": {},
   "outputs": [
    {
     "name": "stdout",
     "output_type": "stream",
     "text": [
      "Make\n",
      "sure\n",
      "to\n",
      "smash\n",
      "that\n",
      "like\n",
      "button\n",
      "and\n",
      "subscribe\n",
      "!!!\n"
     ]
    }
   ],
   "source": [
    "# video method\n",
    "files = webpage.select(\"div.block a\")\n",
    "relative_files = [f[\"href\"] for f in files]\n",
    "\n",
    "url = \"https://keithgalli.github.io/web-scraping/\" \n",
    "\n",
    "for f in relative_files:\n",
    "    full_url = url + f\n",
    "    page = requests.get(full_url)\n",
    "    bs_page = bs(page.content)\n",
    "    secret_word_element = bs_page.find(\"p\",attrs={\"id\":\"secret-word\"})\n",
    "    secret_word_element = secret_word_element.string\n",
    "    print(secret_word_element)"
   ]
  },
  {
   "cell_type": "code",
   "execution_count": null,
   "id": "a3c7dc89",
   "metadata": {},
   "outputs": [],
   "source": []
  }
 ],
 "metadata": {
  "kernelspec": {
   "display_name": "Python 3 (ipykernel)",
   "language": "python",
   "name": "python3"
  },
  "language_info": {
   "codemirror_mode": {
    "name": "ipython",
    "version": 3
   },
   "file_extension": ".py",
   "mimetype": "text/x-python",
   "name": "python",
   "nbconvert_exporter": "python",
   "pygments_lexer": "ipython3",
   "version": "3.8.4"
  }
 },
 "nbformat": 4,
 "nbformat_minor": 5
}
